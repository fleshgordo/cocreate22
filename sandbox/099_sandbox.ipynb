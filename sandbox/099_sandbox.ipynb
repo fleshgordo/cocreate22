{
  "cells": [
    {
      "cell_type": "markdown",
      "id": "67b8837d",
      "metadata": {
        "id": "67b8837d"
      },
      "source": [
        "# Export results from xeno-canto as geo-coordinates to CSV files\n"
      ]
    },
    {
      "cell_type": "code",
      "execution_count": null,
      "id": "ee3b9741",
      "metadata": {
        "id": "ee3b9741",
        "outputId": "e06dfb34-f30b-4ec8-b698-4f51e897cda7"
      },
      "outputs": [
        {
          "name": "stdout",
          "output_type": "stream",
          "text": [
            "https://www.xeno-canto.org/api/2/recordings?query=cnt:switzerland loc:basel\n"
          ]
        }
      ],
      "source": [
        "import requests\n",
        "import pandas as pd\n",
        "\n",
        "params = \"cnt:switzerland loc:basel\"\n",
        "url=\"https://www.xeno-canto.org/api/2/recordings?query=\"+params\n",
        "print(url)\n",
        "r = requests.get(url, headers={\"Content-Type\":\"json\"})\n",
        "resp = r.json()\n",
        "\n",
        "df = pd.DataFrame.from_dict(resp[\"recordings\"])\n",
        "#df.head()\n",
        "outputfile = './sample_data/output.csv'\n",
        "df.dropna().to_csv(outputfile, columns = [\"lat\",\"lng\",\"rmk\"])"
      ]
    },
    {
      "cell_type": "markdown",
      "source": [
        "# Quick xeno-canto to pandas\n",
        "\n",
        "If you receive more than 500 results on a query, you can concatenate some of the requests in a big pandas dataframe by manually changing the page number. "
      ],
      "metadata": {
        "id": "NuVh50P8b9Hp"
      },
      "id": "NuVh50P8b9Hp"
    },
    {
      "cell_type": "code",
      "source": [
        "import requests\n",
        "import pandas as pd\n",
        "\n",
        "# making the request\n",
        "params = \"cnt:switzerland&page=1\" # change page=1, page=2, page=3 etc. if there are more than 500results\n",
        "url=\"https://www.xeno-canto.org/api/2/recordings?query=\"+params\n",
        "r = requests.get(url, headers={\"Content-Type\":\"json\"})\n",
        "resp = r.json()\n",
        "#print(resp)\n",
        "\n",
        "# creating a new dataframe in case there's none, otherwise concatening existing one\n",
        "if df is None:\n",
        "  print(\"first runtime ... creating dataframe\")\n",
        "  df = pd.DataFrame.from_dict(resp[\"recordings\"])\n",
        "else:\n",
        "  df = pd.concat([df, pd.DataFrame.from_dict(resp[\"recordings\"])])\n",
        "  print(\"adding \" + str(len(resp[\"recordings\"])) + \" entries to existing dataframe\")\n",
        "  print(\"currently \" + str(len(df.index)) + \" entries in dataframe\") "
      ],
      "metadata": {
        "id": "_AE-C1ZhcFr6"
      },
      "id": "_AE-C1ZhcFr6",
      "execution_count": null,
      "outputs": []
    },
    {
      "cell_type": "code",
      "source": [
        "df"
      ],
      "metadata": {
        "id": "e1AzEVbacLeT"
      },
      "id": "e1AzEVbacLeT",
      "execution_count": null,
      "outputs": []
    }
  ],
  "metadata": {
    "kernelspec": {
      "display_name": "Python 3 (ipykernel)",
      "language": "python",
      "name": "python3"
    },
    "language_info": {
      "codemirror_mode": {
        "name": "ipython",
        "version": 3
      },
      "file_extension": ".py",
      "mimetype": "text/x-python",
      "name": "python",
      "nbconvert_exporter": "python",
      "pygments_lexer": "ipython3",
      "version": "3.7.12"
    },
    "colab": {
      "provenance": []
    }
  },
  "nbformat": 4,
  "nbformat_minor": 5
}