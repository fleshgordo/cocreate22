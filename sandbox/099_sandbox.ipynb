{
 "cells": [
  {
   "cell_type": "markdown",
   "id": "67b8837d",
   "metadata": {},
   "source": [
    "# Export results from xeno-canto as geo-coordinates to CSV files\n"
   ]
  },
  {
   "cell_type": "code",
   "execution_count": 2,
   "id": "ee3b9741",
   "metadata": {},
   "outputs": [
    {
     "name": "stdout",
     "output_type": "stream",
     "text": [
      "https://www.xeno-canto.org/api/2/recordings?query=cnt:switzerland loc:basel\n"
     ]
    }
   ],
   "source": [
    "import requests\n",
    "import pandas as pd\n",
    "\n",
    "params = \"cnt:switzerland loc:basel\"\n",
    "url=\"https://www.xeno-canto.org/api/2/recordings?query=\"+params\n",
    "print(url)\n",
    "r = requests.get(url, headers={\"Content-Type\":\"json\"})\n",
    "resp = r.json()\n",
    "\n",
    "df = pd.DataFrame.from_dict(resp[\"recordings\"])\n",
    "#df.head()\n",
    "outputfile = './sample_data/output.csv'\n",
    "df.dropna().to_csv(outputfile, columns = [\"lat\",\"lng\",\"rmk\"])"
   ]
  }
 ],
 "metadata": {
  "kernelspec": {
   "display_name": "Python 3 (ipykernel)",
   "language": "python",
   "name": "python3"
  },
  "language_info": {
   "codemirror_mode": {
    "name": "ipython",
    "version": 3
   },
   "file_extension": ".py",
   "mimetype": "text/x-python",
   "name": "python",
   "nbconvert_exporter": "python",
   "pygments_lexer": "ipython3",
   "version": "3.7.12"
  }
 },
 "nbformat": 4,
 "nbformat_minor": 5
}
