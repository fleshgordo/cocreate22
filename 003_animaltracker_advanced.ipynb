{
 "cells": [
  {
   "cell_type": "markdown",
   "metadata": {
    "id": "W6AhYRjWrIE6"
   },
   "source": [
    "# Animal Tracker App"
   ]
  },
  {
   "cell_type": "markdown",
   "metadata": {
    "id": "rbQWl28KsW8U"
   },
   "source": [
    "## Intro \n",
    "\n",
    "The mobile app [Animal tracker](https://www.icarus.mpg.de/29143/animal-tracker-app) allows the general public to monitor and track tagged wildlife animals. The app communicates with an API to receive data. The base URL for the API looks like;\n",
    "\n",
    "````\n",
    "https://animaltracker.app/api/v1/\n",
    "````\n",
    "\n",
    "\n",
    "### Info on unique animal id\n",
    "\n",
    "With Insomnia we can explore the API response to gain further understanding in the data structure. Each animal has an unique ID number for example (53e64761-422f-4f47-978c-a3492f985825 for white-stork)\n",
    "\n",
    "````\n",
    "https://animaltracker.app/api/v1/animals/53e64761-422f-4f47-978c-a3492f985825\n",
    "````\n",
    "\n",
    "### Info on species\n",
    "\n",
    "Some info is being reveiled, for example id, public_animal_count, species id etc.\n",
    "\n",
    "More info on the species with where ```b3eeb878-4aa2-4a2e-aaa7-c4929a6d9266``` referes to species id:\n",
    "````\n",
    "https://animaltracker.app/api/v1/species/b3eeb878-4aa2-4a2e-aaa7-c4929a6d9266\n",
    "````\n",
    "\n",
    "### Get tracks for an id\n",
    "\n",
    "````\n",
    "https://animaltracker.app/api/v2/animals/53e64761-422f-4f47-978c-a3492f985825/tracks\n",
    "````"
   ]
  },
  {
   "cell_type": "markdown",
   "metadata": {
    "id": "SmyntL2XNbp7"
   },
   "source": [
    "## Scraping stuff"
   ]
  },
  {
   "cell_type": "markdown",
   "metadata": {
    "id": "N31v5lr9Nbp8"
   },
   "source": [
    "First, importing a bunch of python libraries. The \"set_option\" make sure that we always see entire content when bigger datasets are being displayed."
   ]
  },
  {
   "cell_type": "code",
   "execution_count": null,
   "metadata": {
    "id": "I_LTDfvVrIE9"
   },
   "outputs": [],
   "source": [
    "import requests\n",
    "import json\n",
    "import pandas as pd\n",
    "from datetime import datetime\n",
    "pd.set_option(\"display.max_colwidth\", None)\n",
    "pd.set_option('display.max_rows', None, 'display.max_columns', None)"
   ]
  },
  {
   "cell_type": "markdown",
   "metadata": {
    "id": "dVgClA--rIE_"
   },
   "source": [
    "The animaltracker API is only accessible for Android and iOS users. To use our script we have to \"impersonate\" a mobile phone. This is done through sending fake header information. The following function fetchURL takes care of this. Just execute the following code block and from now on, you can use fetchURL() as function. It needs some parameters, more concretely two parameters (the url and a filename where the output should be stored)"
   ]
  },
  {
   "cell_type": "code",
   "execution_count": null,
   "metadata": {
    "id": "iBPk598ZrIFB"
   },
   "outputs": [],
   "source": [
    "def fetchURL(url, outputfile, html=False):\n",
    "    \"\"\"Fetches url and writes result into outputfile\n",
    "\n",
    "    Keyword arguments:\n",
    "    :param str url: api url\n",
    "    :param str outputfile: folder/file.json\n",
    "    :param bool html: set to True if expected response is html \n",
    "\n",
    "    Return:\n",
    "    :return dict JSON response\n",
    "    \"\"\"\n",
    "    headers = {\n",
    "        \"User-Agent\": \"Mozilla/5.0 (Linux; Android 7.1.1; Android SDK built for x86_64 Build/NYC; wv) AppleWebKit/537.36 (KHTML, like Gecko) Version/4.0 Chrome/55.0.2883.91 Mobile Safari/537.36\",\n",
    "        \"x-at-application\": \"Android;25;11081\",\n",
    "        \"content-type\": \"application/vnd.api+json; charset=utf-8\",\n",
    "        \"host\": \"animaltracker.app\",\n",
    "        \"x-requested-with\": \"com.mpio.movebank\",\n",
    "        \"accept\": \"application/vnd.api+json; charset=utf-8\",\n",
    "    }\n",
    "    if html != True:\n",
    "        response = requests.get(url, headers=headers)\n",
    "        data = response.json()\n",
    "        print(json.dumps(data, indent=2))\n",
    "        with open(outputfile, \"w+\") as f:\n",
    "            json.dump(data, f)\n",
    "        return data\n",
    "    else:\n",
    "        response = requests.get(url, headers=headers)\n",
    "        with open(outputfile, \"w+\") as f:\n",
    "            f.write(response.text)\n",
    "        return response"
   ]
  },
  {
   "cell_type": "markdown",
   "metadata": {
    "id": "09IxdfPPrIFB"
   },
   "source": [
    "## Get infos for specific animal id\n",
    "\n",
    "Following block will prepare the URL that we have tested as an API endpoint:"
   ]
  },
  {
   "cell_type": "code",
   "execution_count": null,
   "metadata": {
    "colab": {
     "base_uri": "https://localhost:8080/"
    },
    "id": "Ys3khhcYrIFC",
    "outputId": "c633bb39-9f83-4540-cfe2-f99d49e096c2"
   },
   "outputs": [],
   "source": [
    "animal_id = '53e64761-422f-4f47-978c-a3492f985825' # white-stork\n",
    "url = \"https://animaltracker.app/api/v1/animals/\" + animal_id\n",
    "print(url)"
   ]
  },
  {
   "cell_type": "markdown",
   "metadata": {
    "id": "78lAh4u7NbqD"
   },
   "source": [
    "We want to store the scraped information in a new file that has the fileformat ANIMAL_ID.json"
   ]
  },
  {
   "cell_type": "code",
   "execution_count": null,
   "metadata": {
    "colab": {
     "base_uri": "https://localhost:8080/"
    },
    "id": "aFOMYkKrNbqE",
    "outputId": "4ef1d68e-55a9-492a-ef78-9dca4bb2eeb0"
   },
   "outputs": [],
   "source": [
    "filename = \"sample_data/animal-\" + animal_id + \".json\"\n",
    "print(filename)"
   ]
  },
  {
   "cell_type": "markdown",
   "metadata": {
    "id": "I1iqqFlsNbqF"
   },
   "source": [
    "Finally, calling the fetchURL function with two parameters\n",
    "\n",
    "- the url as specified before p.ex. https://animaltracker.app/api/v1/animals/53e64761-422f-4f47-978c-a3492f985825\n",
    "- the file location where the file is being stored\n",
    "\n",
    "The response from the API will be stored in the variable info. We can finally print the info:"
   ]
  },
  {
   "cell_type": "code",
   "execution_count": null,
   "metadata": {
    "colab": {
     "base_uri": "https://localhost:8080/"
    },
    "id": "az6bs2M9NbqF",
    "outputId": "2140acc0-89f9-47c3-ab06-6b075cfa2318"
   },
   "outputs": [],
   "source": [
    "info = fetchURL(url, filename)\n",
    "print(info)"
   ]
  },
  {
   "cell_type": "markdown",
   "metadata": {
    "id": "NxbN5kiWNbqG"
   },
   "source": [
    "Sometimes json responses can be all in one line. Calling **print()** with **json_dumps** helps to pretty print the results:"
   ]
  },
  {
   "cell_type": "code",
   "execution_count": null,
   "metadata": {
    "colab": {
     "base_uri": "https://localhost:8080/"
    },
    "id": "cYWgq6PVNbqG",
    "outputId": "0aed1d45-c0b1-49a8-f28e-3f4d8d542795"
   },
   "outputs": [],
   "source": [
    "print(json.dumps(info,indent=2))"
   ]
  },
  {
   "cell_type": "markdown",
   "metadata": {
    "id": "4Xe2akU3rIFE"
   },
   "source": [
    "## Get animal tracks for specific animal id"
   ]
  },
  {
   "cell_type": "code",
   "execution_count": null,
   "metadata": {
    "colab": {
     "base_uri": "https://localhost:8080/"
    },
    "id": "u87r1CtPrIFE",
    "outputId": "fe87a305-7b3e-4eed-bb14-ab92a9419195"
   },
   "outputs": [],
   "source": [
    "print(\"downloading animal track\")\n",
    "animal_id = '53e64761-422f-4f47-978c-a3492f985825' # white stork\n",
    "url = \"https://animaltracker.app/api/v2/animals/\" + animal_id + \"/tracks\"\n",
    "filename = \"sample_data/track-\" + animal_id + \".json\"\n",
    "track = fetchURL(url, filename)\n",
    "#print(track)"
   ]
  },
  {
   "cell_type": "markdown",
   "metadata": {
    "id": "y9r6Nn0xNbqH"
   },
   "source": [
    "Analysing the response is tedious and not very readable. By transforming the API response into a pandas Dataframe readibility should improve:"
   ]
  },
  {
   "cell_type": "code",
   "execution_count": null,
   "metadata": {
    "colab": {
     "base_uri": "https://localhost:8080/",
     "height": 1000
    },
    "id": "5hvvBrDpNbqH",
    "outputId": "b3b23ec7-7486-4597-e644-0067a9432fc9"
   },
   "outputs": [],
   "source": [
    "df2weeks = pd.DataFrame(track[\"data\"][0][\"attributes\"][\"locations\"])\n",
    "df1year = pd.DataFrame(track[\"data\"][1][\"attributes\"][\"locations\"])\n",
    "df2weeks\n",
    "#print(df1year)"
   ]
  },
  {
   "cell_type": "markdown",
   "metadata": {
    "id": "h6vINDACrIFD"
   },
   "source": [
    "## Downloading all current animals from app\n",
    "\n",
    "The resulting json file will be a bit heavy (~3MB). Don't execute code block below too often as it's heavy on bandwidth and API requests. The block will download all animals that are inside the animaltracker with infos on ID, last location update, species id, etc.\n",
    "\n",
    "The file will be stored in ```sample_data/YYYYMMDD-api-all-animals.json``` where YYYY is the current year, MM month and DD the day."
   ]
  },
  {
   "cell_type": "code",
   "execution_count": null,
   "metadata": {
    "colab": {
     "base_uri": "https://localhost:8080/"
    },
    "id": "ua1YYqVJrIFD",
    "outputId": "9104bec0-1f58-4fd2-9dc7-fcf770e19587"
   },
   "outputs": [],
   "source": [
    "print(\"downloading all animals\")\n",
    "url = \"https://animaltracker.app/api/v1/animals\"\n",
    "timestr = datetime.today().strftime(\"%Y%m%d\")\n",
    "filename = \"sample_data/\" + timestr + \"-api-all-animals.json\""
   ]
  },
  {
   "cell_type": "code",
   "execution_count": null,
   "metadata": {
    "colab": {
     "base_uri": "https://localhost:8080/"
    },
    "id": "-uXTf88_NbqI",
    "outputId": "a71eb1c2-4fc0-4e5f-e3be-131f2676f096"
   },
   "outputs": [],
   "source": [
    "# uncomment this line to download everything\n",
    "#all_animals = fetchURL(url, filename)"
   ]
  },
  {
   "cell_type": "markdown",
   "metadata": {
    "id": "mpb7KxlHNbqJ"
   },
   "source": [
    "Importing the JSON file needs a bit of data-wrangling. We first have to open the file, read the JSON data and then normalize it with a pandas function. Finally, the variable df contains all the entire dataset after executing the code below:"
   ]
  },
  {
   "cell_type": "code",
   "execution_count": null,
   "metadata": {
    "colab": {
     "base_uri": "https://localhost:8080/",
     "height": 1894
    },
    "id": "E8nxp6V4NbqJ",
    "outputId": "26f89775-ba41-4aac-a05c-9b7c3fdf5d85"
   },
   "outputs": [],
   "source": [
    "print(\"loading file: \" + filename)\n",
    "with open(filename) as json_data:\n",
    "    data = json.load(json_data)\n",
    "#print(data)\n",
    "df = pd.json_normalize(data[\"data\"])\n",
    "df"
   ]
  },
  {
   "cell_type": "markdown",
   "metadata": {
    "id": "yJ2yhFEXNbqJ"
   },
   "source": [
    "At the time of writing there are apparently 5070 different animals in the dataset. \n",
    "\n",
    "It is possible to look at specific rows of the dataset by showing only a slice of the dataset. This will show only the first ten entries. "
   ]
  },
  {
   "cell_type": "code",
   "execution_count": null,
   "metadata": {
    "colab": {
     "base_uri": "https://localhost:8080/",
     "height": 913
    },
    "id": "_PCw3HIONbqJ",
    "outputId": "a19e231d-c269-43ea-df28-4f13fa8a58c1"
   },
   "outputs": [],
   "source": [
    "df[0:10] # show first ten entries\n",
    "#df[100:120] # show entriews between row 100-120\n",
    "#df[-5:] # show last 5 entries of dataset"
   ]
  },
  {
   "cell_type": "markdown",
   "metadata": {
    "id": "62ECyj4lNbqK"
   },
   "source": [
    "\n",
    "\n",
    "### Query the Dataframe\n",
    "\n",
    "## Find out how many different species are in dataset\n",
    "\n",
    "Query the dataframe by looking for unique species ids. The column \"relationships.specie.data.id\" holds information on the species type of each animal. With pandas it's quick to filter and output unique species id by using the [drop_duplicates()](https://pandas.pydata.org/docs/reference/api/pandas.DataFrame.drop_duplicates.html) function. "
   ]
  },
  {
   "cell_type": "code",
   "execution_count": null,
   "metadata": {
    "colab": {
     "base_uri": "https://localhost:8080/"
    },
    "id": "ls6ml0NZNbqK",
    "outputId": "065fd32a-b0b4-4522-c985-da618be2232a"
   },
   "outputs": [],
   "source": [
    "df[\"relationships.specie.data.id\"].drop_duplicates() # removes all duplicates and leaves only unique species-id in dataset"
   ]
  },
  {
   "cell_type": "markdown",
   "metadata": {
    "id": "D7ONdX5zNbqK"
   },
   "source": [
    "\n",
    "## Find all animals for specific species\n",
    "\n",
    "Find animal ids with the species id. Looking for other white-storks with the species-id in the dataset: ```b3eeb878-4aa2-4a2e-aaa7-c4929a6d9266``` "
   ]
  },
  {
   "cell_type": "code",
   "execution_count": null,
   "metadata": {
    "colab": {
     "base_uri": "https://localhost:8080/",
     "height": 1000
    },
    "id": "TTbSOoQLNbqK",
    "outputId": "cf747da4-4870-4771-ae3b-73c040a3eac8"
   },
   "outputs": [],
   "source": [
    "species_id = \"b3eeb878-4aa2-4a2e-aaa7-c4929a6d9266\" # white stork\n",
    "#species_id = \"82c04a5e-162d-4054-9ea1-dac19545d5a0\" # eagle\n",
    "# with df.loc and the function isin() we can filter the dataframe\n",
    "df.loc[df[\"relationships.specie.data.id\"].isin([species_id])]"
   ]
  },
  {
   "cell_type": "markdown",
   "metadata": {
    "id": "gHMvdvTKNbqK"
   },
   "source": [
    "Remember that the dataframe object __df__ will not be modified after calling the loc() function. The loc() function is applied only temporarily. "
   ]
  },
  {
   "cell_type": "code",
   "execution_count": null,
   "metadata": {
    "colab": {
     "base_uri": "https://localhost:8080/",
     "height": 1000
    },
    "id": "X1W702xmNbqK",
    "outputId": "27fdeee0-2ee2-4b36-b4d9-5d2bcd5a12ba"
   },
   "outputs": [],
   "source": [
    "df # df remains untouched, still 5070 entries"
   ]
  },
  {
   "cell_type": "markdown",
   "metadata": {
    "id": "4yKPicX-NbqL"
   },
   "source": [
    "The result of the filtering with loc() can be saved in a new variable. In the following example, we call it selection which is a dataframe focussing only on one animal species:"
   ]
  },
  {
   "cell_type": "code",
   "execution_count": null,
   "metadata": {
    "colab": {
     "base_uri": "https://localhost:8080/",
     "height": 1000
    },
    "id": "K4AcAyHdNbqL",
    "outputId": "834c403a-3e5f-4e35-f49f-d474de9cd651"
   },
   "outputs": [],
   "source": [
    "selection = df.loc[df[\"relationships.specie.data.id\"].isin([species_id])]\n",
    "selection"
   ]
  },
  {
   "cell_type": "markdown",
   "metadata": {
    "id": "uhZIWBo5NbqL"
   },
   "source": [
    "## Sort by latest activity\n",
    "\n",
    "Sorting can be done with the function [sort_values()](https://pandas.pydata.org/docs/reference/api/pandas.DataFrame.sort_values.html). In this case we want to sort by the column ```attributes.last_location.timestamp``` which indicates the last update that was sent.\n",
    "\n",
    "Within the parenthesis the column name needs to be specified ```by=['attributes.last_location.timestamp']```"
   ]
  },
  {
   "cell_type": "code",
   "execution_count": null,
   "metadata": {
    "colab": {
     "base_uri": "https://localhost:8080/",
     "height": 1000
    },
    "id": "b2Zkp-hfNbqM",
    "outputId": "6c876415-fdb8-4832-911e-38b4ace82885"
   },
   "outputs": [],
   "source": [
    "selection.sort_values(by=['attributes.last_location.timestamp'],ascending=False)"
   ]
  },
  {
   "cell_type": "markdown",
   "metadata": {
    "id": "RVnL2unXNbqM"
   },
   "source": [
    "We pick the first entry of the animal that showed recent activity. The ID in the column \"id\" is ```ecc8e14b-2c3a-4c12-a035-2e983ed8043f``` With the loc() function we can specify which value we want to filter:"
   ]
  },
  {
   "cell_type": "code",
   "execution_count": null,
   "metadata": {
    "id": "V3mCulc_NbqM"
   },
   "outputs": [],
   "source": [
    "selection.loc[selection[\"id\"] == \"f0c15b45-4340-4b2c-a651-abf848aabd24\"]"
   ]
  },
  {
   "cell_type": "markdown",
   "metadata": {
    "id": "8d5raBoDNbqM"
   },
   "source": [
    "Finally, displaying only the column of interest that is called \"attributes.content_url\":"
   ]
  },
  {
   "cell_type": "code",
   "execution_count": null,
   "metadata": {
    "id": "TfsJida3NbqM",
    "outputId": "2fed5862-2f37-4179-f95c-b2502eb01f20"
   },
   "outputs": [],
   "source": [
    "selection.loc[selection[\"id\"] == \"f0c15b45-4340-4b2c-a651-abf848aabd24\"][\"attributes.content_url\"]"
   ]
  },
  {
   "cell_type": "markdown",
   "metadata": {
    "id": "aJPFhWdFNbqN"
   },
   "source": [
    "Or showing all URLs of these animals:"
   ]
  },
  {
   "cell_type": "code",
   "execution_count": null,
   "metadata": {
    "id": "64MET4voNbqN",
    "outputId": "a6cd749d-1c16-40c1-e6bc-2f8950a8e4e7"
   },
   "outputs": [],
   "source": [
    "selection[\"attributes.content_url\"]"
   ]
  },
  {
   "cell_type": "markdown",
   "metadata": {
    "id": "ENJecbkWNbqN"
   },
   "source": [
    "## Exercise time\n",
    "\n",
    "Try to download the track files for this bird \"40564d88-3107-4281-8268-88766cf3b770\""
   ]
  },
  {
   "cell_type": "code",
   "execution_count": null,
   "metadata": {
    "id": "SRE3yObgNbqN"
   },
   "outputs": [],
   "source": []
  }
 ],
 "metadata": {
  "colab": {
   "provenance": []
  },
  "kernelspec": {
   "display_name": "Python 3 (ipykernel)",
   "language": "python",
   "name": "python3"
  },
  "language_info": {
   "codemirror_mode": {
    "name": "ipython",
    "version": 3
   },
   "file_extension": ".py",
   "mimetype": "text/x-python",
   "name": "python",
   "nbconvert_exporter": "python",
   "pygments_lexer": "ipython3",
   "version": "3.7.12"
  }
 },
 "nbformat": 4,
 "nbformat_minor": 0
}
